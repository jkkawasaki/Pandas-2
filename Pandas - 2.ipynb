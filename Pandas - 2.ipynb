{
 "cells": [
  {
   "cell_type": "code",
   "execution_count": 1,
   "id": "c48afc8d-835a-42a2-955d-7c4cec746d9a",
   "metadata": {},
   "outputs": [
    {
     "name": "stdout",
     "output_type": "stream",
     "text": [
      "q_1: Euclidean distance: 18.16590212458495\n"
     ]
    }
   ],
   "source": [
    "#Compute the euclidean distance between series (points) p and q, without using a packaged formula.\n",
    "#Input\n",
    "import pandas as pd\n",
    "import numpy as np\n",
    "\n",
    "p = pd.Series([1, 2, 3, 4, 5, 6, 7, 8, 9, 10])\n",
    "q = pd.Series([10, 9, 8, 7, 6, 5, 4, 3, 2, 1])\n",
    "\n",
    "#Euclidean distance = sqrt(sum((p - q)^2))\n",
    "p_minus_q_squared = (p - q)**2\n",
    "sum_squared_differences = p_minus_q_squared.sum()\n",
    "q_1 = np.sqrt(sum_squared_differences)\n",
    "\n",
    "print(\"q_1: Euclidean distance:\", q_1)"
   ]
  },
  {
   "cell_type": "code",
   "execution_count": 2,
   "id": "ab041bfd-20ae-4f81-b0e3-20a6caf466b5",
   "metadata": {},
   "outputs": [
    {
     "name": "stdout",
     "output_type": "stream",
     "text": [
      "    c   b   a   d   e\n",
      "0   2   1   0   3   4\n",
      "1   7   6   5   8   9\n",
      "2  12  11  10  13  14\n",
      "3  17  16  15  18  19\n"
     ]
    }
   ],
   "source": [
    "#Change the order of columns of a dataframe. Interchange columns 'a' and 'c'.\n",
    "#Input\n",
    "df = pd.DataFrame(np.arange(20).reshape(-1, 5), columns=list('abcde'))\n",
    "\n",
    "q_2 = df[['c', 'b', 'a', 'd', 'e']]\n",
    "print(q_2)"
   ]
  },
  {
   "cell_type": "code",
   "execution_count": 3,
   "id": "5a86330f-32f6-4b2f-a41b-d1dd2f355a35",
   "metadata": {},
   "outputs": [
    {
     "name": "stdout",
     "output_type": "stream",
     "text": [
      "    c   b   d   e   a\n",
      "0   2   1   3   4   0\n",
      "1   7   6   8   9   5\n",
      "2  12  11  13  14  10\n",
      "3  17  16  18  19  15\n"
     ]
    }
   ],
   "source": [
    "#Change the order of columns of a dataframe.  Create a generic function to interchange two columns, without hardcoding column names.\n",
    "#Input\n",
    "df = pd.DataFrame(np.arange(20).reshape(-1, 5), columns=list('abcde'))\n",
    "\n",
    "def swap_columns(df, col1, col2):\n",
    "    return df[[col2, *df.columns.drop([col1, col2]), col1]]\n",
    "\n",
    "q_3 = swap_columns(df, 'a', 'c')\n",
    "print(q_3)"
   ]
  },
  {
   "cell_type": "code",
   "execution_count": 4,
   "id": "b30ab6f0-53bb-4ac1-9f4a-1d78587faef6",
   "metadata": {},
   "outputs": [
    {
     "name": "stdout",
     "output_type": "stream",
     "text": [
      "     random\n",
      "0  0.517830\n",
      "1  0.575973\n",
      "2  0.001368\n",
      "3  0.000870 \n",
      "\n",
      "q_4:\n",
      "    random\n",
      "0  0.5178\n",
      "1  0.5760\n",
      "2  0.0014\n",
      "3  0.0009\n"
     ]
    }
   ],
   "source": [
    "#Format or suppress scientific notations in a pandas dataframe. Suppress scientific notations like ‘e-03’ in df and print upto 4 numbers after decimal.\n",
    "#Input\n",
    "df = pd.DataFrame(np.random.random(4)**10, columns=['random'])\n",
    "\n",
    "#>          random\n",
    "#> 0  3.474280e-03\n",
    "#> 1  3.951517e-05\n",
    "#> 2  7.469702e-02\n",
    "#> 3  5.541282e-28\n",
    "\n",
    "#Desired Output\n",
    "#>    random\n",
    "#> 0  0.0035\n",
    "#> 1  0.0000\n",
    "#> 2  0.0747\n",
    "#> 3  0.0000\n",
    "\n",
    "print(df , \"\\n\")\n",
    "q_4 = df.round(4)\n",
    "print(\"q_4:\\n\" , q_4)"
   ]
  },
  {
   "cell_type": "code",
   "execution_count": 5,
   "id": "e3a509b9-2667-4875-a192-104802363a1e",
   "metadata": {},
   "outputs": [
    {
     "name": "stdout",
     "output_type": "stream",
     "text": [
      "q_5:\n",
      "     p   q   r   s nearest_row        dist\n",
      "a  17  85   7  10           c  111.874930\n",
      "b  70  88   3  24           e  121.367211\n",
      "c  67  17  71  46           a  111.874930\n",
      "d  63  72  24   4           e  106.442473\n",
      "e   9  34  85  61           b  121.367211\n",
      "f  59  11  78  18           h  113.225439\n",
      "g  18   1   8  61           j  113.375482\n",
      "h  19  91  64  86           f  113.225439\n",
      "i  41  34  62  62           a   94.371606\n",
      "j  19  64  98  33           g  113.375482\n"
     ]
    }
   ],
   "source": [
    "#Create a new column that contains the row number of nearest column by euclidean distance. Create a new column such that, \n",
    "#each row contains the row number of nearest row-record by euclidean distance.\n",
    "\n",
    "#Input\n",
    "df = pd.DataFrame(np.random.randint(1,100, 40).reshape(10, -1), columns=list('pqrs'), index=list('abcdefghij'))\n",
    "#     p   q   r   s\n",
    "# a  57  77  13  62\n",
    "# b  68   5  92  24\n",
    "# c  74  40  18  37\n",
    "# d  80  17  39  60\n",
    "# e  93  48  85  33\n",
    "# f  69  55   8  11\n",
    "# g  39  23  88  53\n",
    "# h  63  28  25  61\n",
    "# i  18   4  73   7\n",
    "# j  79  12  45  34\n",
    "\n",
    "#Desired Output\n",
    "#    p   q   r   s nearest_row   dist\n",
    "# a  57  77  13  62           i  116.0\n",
    "# b  68   5  92  24           a  114.0\n",
    "# c  74  40  18  37           i   91.0\n",
    "# d  80  17  39  60           i   89.0\n",
    "# e  93  48  85  33           i   92.0\n",
    "# f  69  55   8  11           g  100.0\n",
    "# g  39  23  88  53           f  100.0\n",
    "# h  63  28  25  61           i   88.0\n",
    "# i  18   4  73   7           a  116.0\n",
    "# j  79  12  45  34           a   81.0\n",
    "\n",
    "index_list = []\n",
    "curr_index = \"\"\n",
    "\n",
    "dist_list = []\n",
    "max_dist = 0\n",
    "\n",
    "for i in range(len(df)):\n",
    "    for j in range(len(df)):\n",
    "        if i == j:\n",
    "            pass\n",
    "        else:\n",
    "            curr_dist = np.sqrt(sum((df.iloc[i] - df.iloc[j])**2))\n",
    "            \n",
    "            if curr_dist >= max_dist:\n",
    "                max_dist = curr_dist\n",
    "                curr_index = list(df.index)[j]\n",
    "                \n",
    "    dist_list.append(max_dist)\n",
    "    index_list.append(curr_index)\n",
    "\n",
    "    max_dist = 0 #resets for next row\n",
    "    curr_index = \"\"\n",
    "\n",
    "df[\"nearest_row\"] = index_list\n",
    "df[\"dist\"] = dist_list\n",
    "q_5 = df\n",
    "print(\"q_5:\\n\" , q_5)"
   ]
  },
  {
   "cell_type": "code",
   "execution_count": 6,
   "id": "380120c6-5ad1-4a5e-8e1c-94941c415079",
   "metadata": {},
   "outputs": [
    {
     "name": "stdout",
     "output_type": "stream",
     "text": [
      "          A         B         C         D         E\n",
      "A  1.000000  0.756038  0.624390  0.493811  0.928600\n",
      "B  0.756038  1.000000  0.966733  0.363559  0.649558\n",
      "C  0.624390  0.966733  1.000000  0.218860  0.528068\n",
      "D  0.493811  0.363559  0.218860  1.000000  0.720177\n",
      "E  0.928600  0.649558  0.528068  0.720177  1.000000\n"
     ]
    }
   ],
   "source": [
    "#Correlation is a statistical technique that shows how two variables are related. Pandas dataframe.corr() method is used for \n",
    "#creating the correlation matrix. It is used to find the pairwise correlation of all columns in the dataframe. Any na values \n",
    "#are automatically excluded. For any non-numeric data type columns in the dataframe it is ignored.\n",
    "\n",
    "#Input\n",
    "data = {'A': [45, 37, 0, 42, 50],\n",
    "        'B': [38, 31, 1, 26, 90],\n",
    "        'C': [10, 15, -10, 17, 100],\n",
    "        'D': [60, 99, 15, 23, 56],\n",
    "        'E': [76, 98, -0.03, 78, 90]\n",
    "        }\n",
    "q_6 = pd.DataFrame(data)\n",
    "print(q_6.corr())"
   ]
  }
 ],
 "metadata": {
  "kernelspec": {
   "display_name": "Python 3 (ipykernel)",
   "language": "python",
   "name": "python3"
  },
  "language_info": {
   "codemirror_mode": {
    "name": "ipython",
    "version": 3
   },
   "file_extension": ".py",
   "mimetype": "text/x-python",
   "name": "python",
   "nbconvert_exporter": "python",
   "pygments_lexer": "ipython3",
   "version": "3.12.5"
  }
 },
 "nbformat": 4,
 "nbformat_minor": 5
}
